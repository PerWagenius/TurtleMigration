{
 "cells": [
  {
   "cell_type": "code",
   "execution_count": null,
   "metadata": {},
   "outputs": [],
   "source": [
    "import xarray as xr\n",
    "import pandas as pd\n",
    "import numpy as np\n",
    "\n",
    "# Load the GEBCO dataset\n",
    "ds = xr.open_dataset('C:/Users/18479/OneDrive/Desktop/Code Turtle Project/gebco_08.nc')\n",
    "\n",
    "##MAKE THIS BETTER VIA INTERPOLATION (NOT JUST THE CLOSEST GRIDPOINT)\n",
    "def get_bathymetry(lat,lon,ds):\n",
    "    # Get spacing and range from the dataset attributes\n",
    "    spacing = ds.spacing.values  # This will give you the spacing array,[0.00833333, 0.00833333]\n",
    "    x_range = ds.x_range.values  # This is the longitude range, [-180.0, 180.0]\n",
    "    y_range = ds.y_range.values  # This is the latitude range, [-90.0, 90.0]\n",
    "\n",
    "    # Calculate the index for latitude (y) and longitude (x)\n",
    "    lat_idx = int((y_range[1] - lat) / spacing[1])  # Reverse the calculation for latitude\n",
    "    lon_idx = int((lon - x_range[0]) / spacing[0])  # Longitude corresponds to x_range\n",
    "\n",
    "    # Convert 2D indices to 1D index\n",
    "    z_index = lat_idx * 43200  + lon_idx\n",
    "    #z_index = lat_idx  + lon_idx * 21600\n",
    "    # Get bathymetry value\n",
    "    bathymetry = ds.z[z_index].values\n",
    "    return bathymetry\n",
    "    print(f\"Latitude Index: {lat_idx}, Longitude Index: {lon_idx}\")\n",
    "    print(f\"Bathymetry Value: {bathymetry_value}\")\n",
    "    return bathymetry_value\n",
    "def addBath(file_path):\n",
    "    df = pd.read_csv(file_path)\n",
    "    df['bathymetry'] = df.apply(lambda row: get_bathymetry(row['latitude'], row['longitude'], ds), axis=1)\n",
    "    return df\n",
    "# Check the updated DataFrame with bathymetry values\n",
    "new_df = addBath('C:/Users/18479/OneDrive/Desktop/Code Turtle Project/Tracks/T53434_cleaned.csv')\n",
    "print(new_df.head())\n",
    "#print(get_bathymetry(27.9881,86.925,ds)) #test everest\n",
    "#print(get_bathymetry(0,0,ds)) #test 0,0\n",
    "#print(get_bathymetry(11.35, 142.76, ds))  # Test Challenger Deep"
   ]
  }
 ],
 "metadata": {
  "language_info": {
   "name": "python"
  }
 },
 "nbformat": 4,
 "nbformat_minor": 2
}
